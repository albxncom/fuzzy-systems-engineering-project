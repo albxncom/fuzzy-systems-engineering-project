{
 "cells": [
  {
   "cell_type": "code",
   "execution_count": 11,
   "id": "560b5c58",
   "metadata": {},
   "outputs": [],
   "source": [
    "string='{\"tracks\":{\"var\":[\"t0\",\"t1\",\"t2\",\"t3\",\"t4\"],\"name\":\"tracks\"},\"exercices_mandatory_ok\":{\"var\":\"0\",\"name\":\"exercices_mandatory_ok\"},\"preferred_lang\":{\"var\":[\"german\",\"french\",\"english\"],\"name\":\"preferred_lang\"},\"language_lecture\":{\"var\":\"2\",\"name\":\"language_lecture\"},\"language_exercises\":{\"var\":\"3\",\"name\":\"language_exercises\"},\"understandability\":{\"var\":\"4\",\"name\":\"understandability\"},\"difficulty\":{\"var\":\"2\",\"name\":\"difficulty\"},\"commitment\":{\"var\":\"3\",\"name\":\"commitment\"},\"effort\":{\"var\":\"5\",\"name\":\"effort\"},\"quality\":{\"var\":1,\"name\":\"quality\"}}'"
   ]
  },
  {
   "cell_type": "code",
   "execution_count": 29,
   "id": "078ea50d",
   "metadata": {},
   "outputs": [
    {
     "name": "stdout",
     "output_type": "stream",
     "text": [
      "hello world\n",
      "hi\n",
      "hello\n",
      "hello\n",
      "hello\n",
      "hello\n",
      "hello\n",
      "hello\n"
     ]
    }
   ],
   "source": [
    "class Dog:\n",
    "    \n",
    "    def __init__(self):\n",
    "        self.g = \"hi\"\n",
    "        print(\"hello world\")\n",
    "        \n",
    "    def f(self):\n",
    "        print(self.g)\n",
    "        self.g=\"hello\"\n",
    "        self.h()\n",
    "        \n",
    "    def h(self):\n",
    "        print(self.g)\n",
    "        \n",
    "        \n",
    "d = Dog()\n",
    "\n",
    "d.f()\n",
    "d.f()\n",
    "d.f()\n",
    "d.h()"
   ]
  }
 ],
 "metadata": {
  "kernelspec": {
   "display_name": "Python 3 (ipykernel)",
   "language": "python",
   "name": "python3"
  },
  "language_info": {
   "codemirror_mode": {
    "name": "ipython",
    "version": 3
   },
   "file_extension": ".py",
   "mimetype": "text/x-python",
   "name": "python",
   "nbconvert_exporter": "python",
   "pygments_lexer": "ipython3",
   "version": "3.9.0"
  }
 },
 "nbformat": 4,
 "nbformat_minor": 5
}
